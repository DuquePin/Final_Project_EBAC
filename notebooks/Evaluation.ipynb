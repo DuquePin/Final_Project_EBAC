{
 "cells": [
  {
   "cell_type": "markdown",
   "id": "61806a08-5aec-4f3c-a1d6-6f2b7975621a",
   "metadata": {},
   "source": [
    "Model evaluation, metrics, and analysis"
   ]
  },
  {
   "cell_type": "code",
   "execution_count": null,
   "id": "87c6e7c8-46f7-4a21-a965-248304018389",
   "metadata": {},
   "outputs": [],
   "source": []
  }
 ],
 "metadata": {
  "kernelspec": {
   "display_name": "Python 3 (ipykernel)",
   "language": "python",
   "name": "python3"
  },
  "language_info": {
   "codemirror_mode": {
    "name": "ipython",
    "version": 3
   },
   "file_extension": ".py",
   "mimetype": "text/x-python",
   "name": "python",
   "nbconvert_exporter": "python",
   "pygments_lexer": "ipython3",
   "version": "3.11.7"
  }
 },
 "nbformat": 4,
 "nbformat_minor": 5
}
