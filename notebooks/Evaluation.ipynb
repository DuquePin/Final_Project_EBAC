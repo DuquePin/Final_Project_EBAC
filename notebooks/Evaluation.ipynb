{
 "cells": [
  {
   "cell_type": "markdown",
   "id": "a5eb03bc-ce9a-4a0f-aa15-0c9408294d23",
   "metadata": {},
   "source": [
    "# Avaliação\n",
    "## | Avaliar Modelos Criados com as Bases de Validação\n",
    "\n",
    "### > **Objetivo do Notebook**:\n",
    "\n",
    "Este notebook representa a 4ª e última etapa do projeto, dedicada a testar os modelos desenvolvidos nas bases T e S utilizando os dados de validação previamente separados. O objetivo desta fase é determinar qual modelo apresentou o melhor desempenho e, a partir disso, definir a abordagem ideal para a construção do modelo final, que será implementado na aplicação **Streamlit**."
   ]
  },
  {
   "cell_type": "markdown",
   "id": "4f7c5c4a-e078-4008-b881-1ebb708ab65a",
   "metadata": {},
   "source": [
    "## | Importando Bibliotecas"
   ]
  },
  {
   "cell_type": "code",
   "execution_count": 19,
   "id": "d07f5112-d5e1-49d7-883f-b226dbc6bde2",
   "metadata": {},
   "outputs": [],
   "source": [
    "# Manipulação e transformação dos dados\n",
    "import pandas as pd\n",
    "import numpy as np\n",
    "\n",
    "# Carregar modelos ajustados\n",
    "from joblib import load\n",
    "\n",
    "# Visualizar dados\n",
    "import matplotlib.pyplot as plt\n",
    "\n",
    "# Métricas de avaliação\n",
    "from sklearn.metrics import confusion_matrix, ConfusionMatrixDisplay, accuracy_score, roc_auc_score, roc_curve, classification_report"
   ]
  },
  {
   "cell_type": "markdown",
   "id": "56142348-977e-43b1-80fd-ee39665f780c",
   "metadata": {},
   "source": [
    "## | Extraindo Bases de Validação"
   ]
  },
  {
   "cell_type": "code",
   "execution_count": 21,
   "id": "02bfe504-d559-4587-987d-8f79d41a24c1",
   "metadata": {},
   "outputs": [
    {
     "data": {
      "text/plain": [
       "(3826, 39)"
      ]
     },
     "metadata": {},
     "output_type": "display_data"
    },
    {
     "data": {
      "text/plain": [
       "(3826, 12)"
      ]
     },
     "metadata": {},
     "output_type": "display_data"
    }
   ],
   "source": [
    "# Carregando base de validação\n",
    "df_valid_t = pd.read_feather('../data/processed/valid_t.ftr')\n",
    "df_valid_s = pd.read_feather('../data/processed/valid_s.ftr')\n",
    "\n",
    "# Visualizando formato\n",
    "display(df_valid_t.shape)\n",
    "display(df_valid_s.shape)"
   ]
  },
  {
   "cell_type": "code",
   "execution_count": 22,
   "id": "ade268bc-0f8f-4e84-8c99-cc20746996b0",
   "metadata": {},
   "outputs": [
    {
     "data": {
      "text/plain": [
       "(3826, 38)"
      ]
     },
     "metadata": {},
     "output_type": "display_data"
    },
    {
     "data": {
      "text/plain": [
       "(3826,)"
      ]
     },
     "metadata": {},
     "output_type": "display_data"
    },
    {
     "data": {
      "text/plain": [
       "(3826, 11)"
      ]
     },
     "metadata": {},
     "output_type": "display_data"
    },
    {
     "data": {
      "text/plain": [
       "(3826,)"
      ]
     },
     "metadata": {},
     "output_type": "display_data"
    }
   ],
   "source": [
    "# Separando em features (X) e target (y)\n",
    "X_vt = df_valid_t.drop(columns=['Target'])\n",
    "y_vt = df_valid_t['Target']\n",
    "\n",
    "X_vs = df_valid_s.drop(columns=['Target'])\n",
    "y_vs = df_valid_s['Target']\n",
    "\n",
    "# Visualizando formato\n",
    "display(X_vt.shape)\n",
    "display(y_vt.shape)\n",
    "display(X_vs.shape)\n",
    "display(y_vs.shape)"
   ]
  },
  {
   "cell_type": "markdown",
   "id": "e32705a9-88f4-4a1b-b01f-2b6983d7d718",
   "metadata": {},
   "source": [
    "## | Carregando Modelos Criados"
   ]
  },
  {
   "cell_type": "code",
   "execution_count": 23,
   "id": "8fbe29bd-f2d8-4090-8d03-c280a3f208b3",
   "metadata": {},
   "outputs": [
    {
     "data": {
      "text/html": [
       "<style>#sk-container-id-5 {color: black;background-color: white;}#sk-container-id-5 pre{padding: 0;}#sk-container-id-5 div.sk-toggleable {background-color: white;}#sk-container-id-5 label.sk-toggleable__label {cursor: pointer;display: block;width: 100%;margin-bottom: 0;padding: 0.3em;box-sizing: border-box;text-align: center;}#sk-container-id-5 label.sk-toggleable__label-arrow:before {content: \"▸\";float: left;margin-right: 0.25em;color: #696969;}#sk-container-id-5 label.sk-toggleable__label-arrow:hover:before {color: black;}#sk-container-id-5 div.sk-estimator:hover label.sk-toggleable__label-arrow:before {color: black;}#sk-container-id-5 div.sk-toggleable__content {max-height: 0;max-width: 0;overflow: hidden;text-align: left;background-color: #f0f8ff;}#sk-container-id-5 div.sk-toggleable__content pre {margin: 0.2em;color: black;border-radius: 0.25em;background-color: #f0f8ff;}#sk-container-id-5 input.sk-toggleable__control:checked~div.sk-toggleable__content {max-height: 200px;max-width: 100%;overflow: auto;}#sk-container-id-5 input.sk-toggleable__control:checked~label.sk-toggleable__label-arrow:before {content: \"▾\";}#sk-container-id-5 div.sk-estimator input.sk-toggleable__control:checked~label.sk-toggleable__label {background-color: #d4ebff;}#sk-container-id-5 div.sk-label input.sk-toggleable__control:checked~label.sk-toggleable__label {background-color: #d4ebff;}#sk-container-id-5 input.sk-hidden--visually {border: 0;clip: rect(1px 1px 1px 1px);clip: rect(1px, 1px, 1px, 1px);height: 1px;margin: -1px;overflow: hidden;padding: 0;position: absolute;width: 1px;}#sk-container-id-5 div.sk-estimator {font-family: monospace;background-color: #f0f8ff;border: 1px dotted black;border-radius: 0.25em;box-sizing: border-box;margin-bottom: 0.5em;}#sk-container-id-5 div.sk-estimator:hover {background-color: #d4ebff;}#sk-container-id-5 div.sk-parallel-item::after {content: \"\";width: 100%;border-bottom: 1px solid gray;flex-grow: 1;}#sk-container-id-5 div.sk-label:hover label.sk-toggleable__label {background-color: #d4ebff;}#sk-container-id-5 div.sk-serial::before {content: \"\";position: absolute;border-left: 1px solid gray;box-sizing: border-box;top: 0;bottom: 0;left: 50%;z-index: 0;}#sk-container-id-5 div.sk-serial {display: flex;flex-direction: column;align-items: center;background-color: white;padding-right: 0.2em;padding-left: 0.2em;position: relative;}#sk-container-id-5 div.sk-item {position: relative;z-index: 1;}#sk-container-id-5 div.sk-parallel {display: flex;align-items: stretch;justify-content: center;background-color: white;position: relative;}#sk-container-id-5 div.sk-item::before, #sk-container-id-5 div.sk-parallel-item::before {content: \"\";position: absolute;border-left: 1px solid gray;box-sizing: border-box;top: 0;bottom: 0;left: 50%;z-index: -1;}#sk-container-id-5 div.sk-parallel-item {display: flex;flex-direction: column;z-index: 1;position: relative;background-color: white;}#sk-container-id-5 div.sk-parallel-item:first-child::after {align-self: flex-end;width: 50%;}#sk-container-id-5 div.sk-parallel-item:last-child::after {align-self: flex-start;width: 50%;}#sk-container-id-5 div.sk-parallel-item:only-child::after {width: 0;}#sk-container-id-5 div.sk-dashed-wrapped {border: 1px dashed gray;margin: 0 0.4em 0.5em 0.4em;box-sizing: border-box;padding-bottom: 0.4em;background-color: white;}#sk-container-id-5 div.sk-label label {font-family: monospace;font-weight: bold;display: inline-block;line-height: 1.2em;}#sk-container-id-5 div.sk-label-container {text-align: center;}#sk-container-id-5 div.sk-container {/* jupyter's `normalize.less` sets `[hidden] { display: none; }` but bootstrap.min.css set `[hidden] { display: none !important; }` so we also need the `!important` here to be able to override the default hidden behavior on the sphinx rendered scikit-learn.org. See: https://github.com/scikit-learn/scikit-learn/issues/21755 */display: inline-block !important;position: relative;}#sk-container-id-5 div.sk-text-repr-fallback {display: none;}</style><div id=\"sk-container-id-5\" class=\"sk-top-container\"><div class=\"sk-text-repr-fallback\"><pre>LogisticRegression(C=100, max_iter=5000, penalty=&#x27;l1&#x27;, random_state=412,\n",
       "                   solver=&#x27;saga&#x27;)</pre><b>In a Jupyter environment, please rerun this cell to show the HTML representation or trust the notebook. <br />On GitHub, the HTML representation is unable to render, please try loading this page with nbviewer.org.</b></div><div class=\"sk-container\" hidden><div class=\"sk-item\"><div class=\"sk-estimator sk-toggleable\"><input class=\"sk-toggleable__control sk-hidden--visually\" id=\"sk-estimator-id-5\" type=\"checkbox\" checked><label for=\"sk-estimator-id-5\" class=\"sk-toggleable__label sk-toggleable__label-arrow\">LogisticRegression</label><div class=\"sk-toggleable__content\"><pre>LogisticRegression(C=100, max_iter=5000, penalty=&#x27;l1&#x27;, random_state=412,\n",
       "                   solver=&#x27;saga&#x27;)</pre></div></div></div></div></div>"
      ],
      "text/plain": [
       "LogisticRegression(C=100, max_iter=5000, penalty='l1', random_state=412,\n",
       "                   solver='saga')"
      ]
     },
     "metadata": {},
     "output_type": "display_data"
    },
    {
     "data": {
      "text/html": [
       "<style>#sk-container-id-6 {color: black;background-color: white;}#sk-container-id-6 pre{padding: 0;}#sk-container-id-6 div.sk-toggleable {background-color: white;}#sk-container-id-6 label.sk-toggleable__label {cursor: pointer;display: block;width: 100%;margin-bottom: 0;padding: 0.3em;box-sizing: border-box;text-align: center;}#sk-container-id-6 label.sk-toggleable__label-arrow:before {content: \"▸\";float: left;margin-right: 0.25em;color: #696969;}#sk-container-id-6 label.sk-toggleable__label-arrow:hover:before {color: black;}#sk-container-id-6 div.sk-estimator:hover label.sk-toggleable__label-arrow:before {color: black;}#sk-container-id-6 div.sk-toggleable__content {max-height: 0;max-width: 0;overflow: hidden;text-align: left;background-color: #f0f8ff;}#sk-container-id-6 div.sk-toggleable__content pre {margin: 0.2em;color: black;border-radius: 0.25em;background-color: #f0f8ff;}#sk-container-id-6 input.sk-toggleable__control:checked~div.sk-toggleable__content {max-height: 200px;max-width: 100%;overflow: auto;}#sk-container-id-6 input.sk-toggleable__control:checked~label.sk-toggleable__label-arrow:before {content: \"▾\";}#sk-container-id-6 div.sk-estimator input.sk-toggleable__control:checked~label.sk-toggleable__label {background-color: #d4ebff;}#sk-container-id-6 div.sk-label input.sk-toggleable__control:checked~label.sk-toggleable__label {background-color: #d4ebff;}#sk-container-id-6 input.sk-hidden--visually {border: 0;clip: rect(1px 1px 1px 1px);clip: rect(1px, 1px, 1px, 1px);height: 1px;margin: -1px;overflow: hidden;padding: 0;position: absolute;width: 1px;}#sk-container-id-6 div.sk-estimator {font-family: monospace;background-color: #f0f8ff;border: 1px dotted black;border-radius: 0.25em;box-sizing: border-box;margin-bottom: 0.5em;}#sk-container-id-6 div.sk-estimator:hover {background-color: #d4ebff;}#sk-container-id-6 div.sk-parallel-item::after {content: \"\";width: 100%;border-bottom: 1px solid gray;flex-grow: 1;}#sk-container-id-6 div.sk-label:hover label.sk-toggleable__label {background-color: #d4ebff;}#sk-container-id-6 div.sk-serial::before {content: \"\";position: absolute;border-left: 1px solid gray;box-sizing: border-box;top: 0;bottom: 0;left: 50%;z-index: 0;}#sk-container-id-6 div.sk-serial {display: flex;flex-direction: column;align-items: center;background-color: white;padding-right: 0.2em;padding-left: 0.2em;position: relative;}#sk-container-id-6 div.sk-item {position: relative;z-index: 1;}#sk-container-id-6 div.sk-parallel {display: flex;align-items: stretch;justify-content: center;background-color: white;position: relative;}#sk-container-id-6 div.sk-item::before, #sk-container-id-6 div.sk-parallel-item::before {content: \"\";position: absolute;border-left: 1px solid gray;box-sizing: border-box;top: 0;bottom: 0;left: 50%;z-index: -1;}#sk-container-id-6 div.sk-parallel-item {display: flex;flex-direction: column;z-index: 1;position: relative;background-color: white;}#sk-container-id-6 div.sk-parallel-item:first-child::after {align-self: flex-end;width: 50%;}#sk-container-id-6 div.sk-parallel-item:last-child::after {align-self: flex-start;width: 50%;}#sk-container-id-6 div.sk-parallel-item:only-child::after {width: 0;}#sk-container-id-6 div.sk-dashed-wrapped {border: 1px dashed gray;margin: 0 0.4em 0.5em 0.4em;box-sizing: border-box;padding-bottom: 0.4em;background-color: white;}#sk-container-id-6 div.sk-label label {font-family: monospace;font-weight: bold;display: inline-block;line-height: 1.2em;}#sk-container-id-6 div.sk-label-container {text-align: center;}#sk-container-id-6 div.sk-container {/* jupyter's `normalize.less` sets `[hidden] { display: none; }` but bootstrap.min.css set `[hidden] { display: none !important; }` so we also need the `!important` here to be able to override the default hidden behavior on the sphinx rendered scikit-learn.org. See: https://github.com/scikit-learn/scikit-learn/issues/21755 */display: inline-block !important;position: relative;}#sk-container-id-6 div.sk-text-repr-fallback {display: none;}</style><div id=\"sk-container-id-6\" class=\"sk-top-container\"><div class=\"sk-text-repr-fallback\"><pre>LogisticRegression(C=10, max_iter=5000, penalty=&#x27;l1&#x27;, random_state=412,\n",
       "                   solver=&#x27;saga&#x27;)</pre><b>In a Jupyter environment, please rerun this cell to show the HTML representation or trust the notebook. <br />On GitHub, the HTML representation is unable to render, please try loading this page with nbviewer.org.</b></div><div class=\"sk-container\" hidden><div class=\"sk-item\"><div class=\"sk-estimator sk-toggleable\"><input class=\"sk-toggleable__control sk-hidden--visually\" id=\"sk-estimator-id-6\" type=\"checkbox\" checked><label for=\"sk-estimator-id-6\" class=\"sk-toggleable__label sk-toggleable__label-arrow\">LogisticRegression</label><div class=\"sk-toggleable__content\"><pre>LogisticRegression(C=10, max_iter=5000, penalty=&#x27;l1&#x27;, random_state=412,\n",
       "                   solver=&#x27;saga&#x27;)</pre></div></div></div></div></div>"
      ],
      "text/plain": [
       "LogisticRegression(C=10, max_iter=5000, penalty='l1', random_state=412,\n",
       "                   solver='saga')"
      ]
     },
     "metadata": {},
     "output_type": "display_data"
    }
   ],
   "source": [
    "# Carregando modelos\n",
    "logistic_t = load('../src/models/logistic_regression_model_base_T.joblib')\n",
    "logistic_s = load('../src/models/logistic_regression_model_base_S.joblib')\n",
    "\n",
    "# Visualizando\n",
    "display(logistic_t)\n",
    "display(logistic_s)"
   ]
  },
  {
   "cell_type": "markdown",
   "id": "e0560c20-933b-4e39-a788-032c1bf0a291",
   "metadata": {},
   "source": [
    "## | Avaliando Modelos\n",
    "\n",
    "Para facilitar a avaliação dos modelos, a célula abaixo define uma função que calcula as principais métricas de desempenho, como **acurácia, precisão, recall, F1-score, AUC, gini e KS**. Além disso, a função gera a matriz de confusão, permitindo uma visualização clara dos erros e acertos do modelo, o que auxilia na interpretação e comparação dos resultados obtidos."
   ]
  },
  {
   "cell_type": "code",
   "execution_count": 20,
   "id": "87c6e7c8-46f7-4a21-a965-248304018389",
   "metadata": {},
   "outputs": [],
   "source": [
    "# Definindo funções para avaliar o modelo na base de validação\n",
    "def avaliar_modelo(model: LogisticRegression , X_valid: pd.DataFrame, y_valid: pd.Series) -> None:\n",
    "    '''\n",
    "    Função para conduzir a avaliação do modelo criado e plotar as métricas do modelo.\n",
    "\n",
    "    Parâmetros:\n",
    "    - model: recebe o modelo de regressão logística ajustado.\n",
    "    - X_valid: recebe o DataFrame do Pandas com os dados de validação das variáveis independentes.\n",
    "    - y_valid: recebe o Series do Pandas com os dados de validação da variável resposta.\n",
    "    '''\n",
    "    # Criando previsão de classes com a base de validação\n",
    "    y_pred = model.predict(X_valid)\n",
    "    \n",
    "    # Criando previsão de probabilidades com base de validação\n",
    "    y_probs = model.predict_proba(X_valid)\n",
    "    \n",
    "    # Calculando métricas na base de validação\n",
    "    acc = accuracy_score(y_valid, y_pred)\n",
    "    auc = roc_auc_score(y_valid, y_pred)\n",
    "    gini = 2 * auc - 1\n",
    "    fpr, tpr, _ = roc_curve(y_valid, y_probs[:, 1])\n",
    "    ks = max(tpr - fpr)\n",
    "    cls_report = classification_report(y_valid, y_pred)\n",
    "    \n",
    "    # Visualizando métricas na base de validação\n",
    "    print('='*75)\n",
    "    print('Métricas do modelo na base de validação'.center(75))\n",
    "    print('='*75)\n",
    "    print(f'Acurácia do modelo: {acc:.2%}')\n",
    "    print(f'AUC do modelo: {auc:.2%}')\n",
    "    print(f'Coeficiente de Gini do modelo: {gini:.2%}')\n",
    "    print(f'KS do modelo: {ks:.4f}')\n",
    "    print(cls_report)\n",
    "    \n",
    "    # Criando e plotando matrix de confusão na base de treino\n",
    "    cm = confusion_matrix(y_valid, y_pred)\n",
    "    cm_disp = ConfusionMatrixDisplay(cm)\n",
    "    cm_disp.plot()\n",
    "    plt.show()"
   ]
  },
  {
   "cell_type": "markdown",
   "id": "ba0d07b6-7b0d-4b2b-83a9-54f5b2f9c1ac",
   "metadata": {},
   "source": [
    "## | Avaliando Modelo da Base T"
   ]
  },
  {
   "cell_type": "code",
   "execution_count": 17,
   "id": "bbe0297a-853b-45e5-961a-ef012c7ab49c",
   "metadata": {},
   "outputs": [
    {
     "name": "stdout",
     "output_type": "stream",
     "text": [
      "===========================================================================\n",
      "                  Métricas do modelo na base de validação                  \n",
      "===========================================================================\n",
      "Acurácia do modelo: 90.75%\n",
      "AUC do modelo: 87.98%\n",
      "Coeficiente de Gini do modelo: 75.96%\n",
      "KS do modelo: 0.7646\n",
      "              precision    recall  f1-score   support\n",
      "\n",
      "           0       0.90      0.96      0.93      2535\n",
      "           1       0.92      0.79      0.85      1291\n",
      "\n",
      "    accuracy                           0.91      3826\n",
      "   macro avg       0.91      0.88      0.89      3826\n",
      "weighted avg       0.91      0.91      0.91      3826\n",
      "\n"
     ]
    },
    {
     "data": {
      "image/png": "[encoded data removed]",
      "text/plain": [
       "<Figure size 640x480 with 2 Axes>"
      ]
     },
     "metadata": {},
     "output_type": "display_data"
    }
   ],
   "source": [
    "# Avaliando modelo da Base T\n",
    "avaliar_modelo(logistic_t, X_vt, y_vt)"
   ]
  },
  {
   "cell_type": "markdown",
   "id": "4c38a1fd-ed82-4d98-8d46-60b0dd2f30ba",
   "metadata": {},
   "source": [
    "## | Avaliando Modelo da Base S"
   ]
  },
  {
   "cell_type": "code",
   "execution_count": 18,
   "id": "1e85d744-4d16-4bd2-9f5e-95d3f0fbf018",
   "metadata": {},
   "outputs": [
    {
     "name": "stdout",
     "output_type": "stream",
     "text": [
      "===========================================================================\n",
      "                  Métricas do modelo na base de validação                  \n",
      "===========================================================================\n",
      "Acurácia do modelo: 90.51%\n",
      "AUC do modelo: 87.65%\n",
      "Coeficiente de Gini do modelo: 75.30%\n",
      "KS do modelo: 0.7638\n",
      "              precision    recall  f1-score   support\n",
      "\n",
      "           0       0.90      0.96      0.93      2535\n",
      "           1       0.92      0.79      0.85      1291\n",
      "\n",
      "    accuracy                           0.91      3826\n",
      "   macro avg       0.91      0.88      0.89      3826\n",
      "weighted avg       0.91      0.91      0.90      3826\n",
      "\n"
     ]
    },
    {
     "data": {
      "image/png": "[encoded data removed]",
      "text/plain": [
       "<Figure size 640x480 with 2 Axes>"
      ]
     },
     "metadata": {},
     "output_type": "display_data"
    }
   ],
   "source": [
    "# Avaliando modelo da Base S\n",
    "avaliar_modelo(logistic_s, X_vs, y_vs)"
   ]
  },
  {
   "cell_type": "markdown",
   "id": "b56db4f5-d323-4dc3-8a70-f96cd7fa5fb8",
   "metadata": {},
   "source": [
    "## | Resultados\n",
    "\n",
    "Ambos os modelos foram avaliados utilizando a base de validação, e os resultados obtidos indicam desempenhos bastante próximos. Abaixo, destacamos as principais métricas e diferenças entre os modelos:\n",
    "\n",
    "<a name=\"dicionário\"></a>\n",
    "| Métrica | Modelo Base T | Modelo Base S |\n",
    "| ------- | ------------- | ------------ |\n",
    "| Acurácia |\t90.75%\t| 90.51% |\n",
    "| AUC\t| 87.98%\t| 87.65% |\n",
    "| Coeficiente de Gini |\t75.96%\t| 75.30% |\n",
    "| KS (Kolmogorov-Smirnov) |\t0.7646\t| 0.7638 |\n",
    "| Precision (Classe 1) |\t0.92\t| 0.92 |\n",
    "| Recall (Classe 1) |\t0.79\t| 0.79 |\n",
    "| F1-score (Classe 1) |\t0.85\t| 0.85 |\n",
    "\n",
    "## | Interpretação dos Resultados\n",
    "\n",
    "### | Acurácia e AUC:\n",
    "\n",
    "O modelo baseado na **Base T** apresentou um desempenho ligeiramente superior, com uma acurácia de **90.75%** contra **90.51%** do modelo baseado na **Base S**.\n",
    "\n",
    "O **AUC (Área Sob a Curva ROC)** do modelo da **Base T** também foi um pouco maior **(87.98% vs. 87.65%)**, sugerindo que ele tem uma capacidade marginalmente melhor de distinguir entre alunos propensos e não propensos à evasão.\n",
    "\n",
    "### | Coeficiente de Gini e KS:\n",
    "\n",
    "O modelo da **Base T** também supera ligeiramente o da **Base S** no **Coeficiente de Gini** **(75.96% vs. 75.30%)** e na métrica **KS** **(0.7646 vs. 0.7638)**. Esses indicadores reforçam a vantagem do modelo da **Base T** na separação entre classes.\n",
    "\n",
    "### | Métricas de Classificação (Precision, Recall e F1-score):\n",
    "\n",
    "Ambos os modelos apresentam **precision, recall e F1-score** idênticos para a classe 1, indicando que a seleção de variáveis na **Base S** não comprometeu significativamente a qualidade da classificação.\n",
    "\n",
    "## | Conclusão\n",
    "O modelo baseado na **Base T** apresentou uma leve vantagem nas métricas de desempenho, indicando que o uso de todas as variáveis transformadas pode oferecer uma melhor capacidade preditiva.\n",
    "\n",
    "No entanto, a **Base S** utiliza um subconjunto otimizado de variáveis, o que pode reduzir a complexidade do modelo e melhorar sua interpretabilidade, sem causar uma perda significativa de desempenho.\n",
    "\n",
    "Por conta disso, usaremos o abordagem da **Base S** para criação do modelo final que será usado na aplicação Streamlit."
   ]
  }
 ],
 "metadata": {
  "kernelspec": {
   "display_name": "Python 3 (ipykernel)",
   "language": "python",
   "name": "python3"
  },
  "language_info": {
   "codemirror_mode": {
    "name": "ipython",
    "version": 3
   },
   "file_extension": ".py",
   "mimetype": "text/x-python",
   "name": "python",
   "nbconvert_exporter": "python",
   "pygments_lexer": "ipython3",
   "version": "3.11.7"
  }
 },
 "nbformat": 4,
 "nbformat_minor": 5
}
