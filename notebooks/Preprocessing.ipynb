{
 "cells": [
  {
   "cell_type": "markdown",
   "id": "92d2ff8a-979a-46a2-b083-f404fafdec37",
   "metadata": {},
   "source": [
    "Data preprocessing steps (cleaning, feature engineering)"
   ]
  },
  {
   "cell_type": "code",
   "execution_count": null,
   "id": "9921be98-25dd-4fa0-92ac-541fa1bede49",
   "metadata": {},
   "outputs": [],
   "source": []
  }
 ],
 "metadata": {
  "kernelspec": {
   "display_name": "Python 3 (ipykernel)",
   "language": "python",
   "name": "python3"
  },
  "language_info": {
   "codemirror_mode": {
    "name": "ipython",
    "version": 3
   },
   "file_extension": ".py",
   "mimetype": "text/x-python",
   "name": "python",
   "nbconvert_exporter": "python",
   "pygments_lexer": "ipython3",
   "version": "3.11.7"
  }
 },
 "nbformat": 4,
 "nbformat_minor": 5
}
