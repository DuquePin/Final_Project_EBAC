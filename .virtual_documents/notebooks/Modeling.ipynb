


import pandas as pd
import numpy as np

import seaborn as sns
import matplotlib.pyplot as plt

from sklearn.linear_model import LogisticRegression

from sklearn.model_selection import train_test_split, GridSearchCV
from sklearn.metrics import confusion_matrix, ConfusionMatrixDisplay, accuracy_score, roc_auc_score, roc_curve, classification_report


# Extraindo dados
df_desen_t = pd.read_feather('../data/processed/data_t.ftr')
df_desen_s = pd.read_feather('../data/processed/data_s.ftr')
df_valid_t = pd.read_feather('../data/processed/valid_t.ftr')
df_valid_s = pd.read_feather('../data/processed/valid_s.ftr')

# Visualizando 
display(df_desen_t)
display(df_desen_s)


# Separando em features (X) e target (y)

# Base de desenvolvimento com todas variáveis transformadas (Base T)
X_t = df_desen_t.drop(columns=['Target'])
y_t = df_desen_t.Target

# Base de desenvolvimento com subconjunto de variáveis selecionadas (Base S)
X_s = df_desen_s.drop(columns=['Target'])
y_s = df_desen_s.Target

# Base de desenvolvimento com todas variáveis transformadas (Base VT)
X_vt = df_valid_t.drop(columns=['Target'])
y_vt = df_valid_t.Target

# Base de validação com subconjunto de variáveis selecionadas (Base VS)
X_vs = df_valid_s.drop(columns=['Target'])
y_vs = df_valid_s.Target

# Visualizando
display(X_s.shape)
display(X_t.shape)
display(X_vs.shape)
display(X_vt.shape)





# Separando base de desenvolvimento em treino e teste
X_t_train, X_t_test, y_t_train, y_t_test = train_test_split(X_t, y_t, test_size=.2, random_state=412)

display(X_t_train.shape)
display(X_t_test.shape)


# Criando modelo para GridSearch
log_reg = LogisticRegression(max_iter=5000)

# Definindo parâmetros a testar
param_grid = {
    'C': [0.01, 0.1, 1, 10, 100], 
    'penalty': ['l1', 'l2'], 
    'solver': ['liblinear', 'saga'] 
}

# Realizando GridSearch
grid_search = GridSearchCV(log_reg, param_grid, cv=10, scoring=['accuracy', 'precision', 'recall', 'f1', 'roc_auc'], refit=False, verbose=3, n_jobs=-1)
grid_search.fit(X_t_train, y_t_train)


results = pd.DataFrame(grid_search.cv_results_)
results.head(5)


selected_columns = ['params', 'mean_fit_time', 'std_fit_time', 'mean_score_time', 'std_score_time']
for col in results:
    if col.startswith('mean_test') or col.startswith('std_test') or col.startswith('rank_test'):
        selected_columns.append(col)

def highlight_values(s):
    if s.name == 'params': 
        return [''] * len(s)
    if s.name in ['mean_fit_time', 'std_fit_time', 'mean_score_time', 'std_score_time']:  
        is_min = s == s.min()
        return ['background-color: blue' if v else '' for v in is_min]
    if s.name.startswith(('mean_test', 'std_test')):  
        is_max = s == s.max()
        return ['background-color: blue' if v else '' for v in is_max]
    if s.name.startswith('rank_test'):  
        is_min = s == s.min()
        return ['background-color: blue' if v else '' for v in is_min]
    return [''] * len(s)  

results_highlighted = results[selected_columns].style.apply(highlight_values, subset=selected_columns[1:], axis=0)

results_highlighted


# Criando modelo com penalização ElasticNet
logistic_t = LogisticRegression(penalty='elasticnet', solver='saga', max_iter=1000, random_state=412, l1_ratio=0.5, C=1.0)

# Ajustando modelo aos dados de treino
logistic_t.fit(X_t_train, y_t_train)

# Criando previsões
y_t_pred = logistic_t.predict(X_t_test)

# Avaliando modelo
accuracy_score(y_t_test, y_t_pred)



# Definindo funções para avaliar o modelo nas bases de treino e teste 
def avaliar_modelo(model: LogisticRegression , X_train: pd.DataFrame, y_train: pd.Series, X_test: pd.DataFrame, y_test: pd.Series) -> None:
    '''
    Função para conduzir a avaliação do modelo criado e plotar as métricas do modelo.

    Parâmetros:
    - model: recebe o modelo de regressão logística ajustado.
    - X_train: recebe o DataFrame do Pandas com os dados de treino das variáveis independentes.
    - y_train: recebe o Series do Pandas com os dados de treino da variável resposta.
    - X_test: recebe o DataFrame do Pandas com os dados de teste das variáveis independentes.
    - y_test: recebe o Series do Pandas com os dados de teste da variável resposta.
    '''
    # Criando previsão de classes com a base de treino
    y_pred_train = model.predict(X_train)
    
    # Criando previsão de probabilidades com base de treino
    y_probs_train = model.predict_proba(X_train)
    
    # Calculando métricas na base de treinamento
    acc_train = accuracy_score(y_train, y_pred_train)
    auc_train = roc_auc_score(y_train, y_pred_train)
    gini_train = 2 * auc_train - 1
    fpr, tpr, _ = roc_curve(y_train, y_probs_train[:, 1])
    ks_train = max(tpr - fpr)
    cls_report_train = classification_report(y_train, y_pred_train)
    
    # Criando previsão de classes com a base de teste
    y_pred_test = model.predict(X_test)
    
    # Criando previsão de probabilidades com base de teste
    y_probs_test = model.predict_proba(X_test)
    
    # Calculando métricas na base de teste
    acc_test = accuracy_score(y_test, y_pred_test)
    auc_test = roc_auc_score(y_test, y_pred_test)
    gini_test = 2 * auc_test - 1
    fpr, tpr, _ = roc_curve(y_test, y_probs_test[:, 1])
    ks_test = max(tpr - fpr)
    cls_report_test = classification_report(y_test, y_pred_test)
    
    # Visualizando métricas na base de treino
    print('='*75)
    print('Métricas do modelo na base de treino'.center(75))
    print('='*75)
    print(f'Acurácia do modelo na base de treino: {acc_train:.2%}')
    print(f'AUC do modelo na base de treino: {auc_train:.2%}')
    print(f'Coeficiente de Gini do modelo na base de treino: {gini_train:.2%}')
    print(f'KS do modelo na base de treino: {ks_train:.4f}')
    print(cls_report_train)
    
    # Criando e plotando matrix de confusão na base de treino
    cm = confusion_matrix(y_train, y_pred_train)
    cm_disp = ConfusionMatrixDisplay(cm)
    cm_disp.plot()
    plt.show()
    
    # Visualizando métricas na base de teste
    print('='*75)
    print('Métricas do modelo na base de teste'.center(75))
    print('='*75)
    print(f'Acurácia do modelo na base de teste: {acc_test:.2%}')
    print(f'AUC do modelo na base de teste: {auc_test:.2%}')
    print(f'Coeficiente de Gini do modelo na base de teste: {gini_test:.2%}')
    print(f'KS do modelo na base de teste: {ks_test:.4f}')
    print(cls_report_test)
    
    # Criando e plotando matrix de confusão na base de teste
    cm = confusion_matrix(y_test, y_pred_test)
    cm_disp = ConfusionMatrixDisplay(cm)
    cm_disp.plot()
    plt.show()


avaliar_modelo(logistic_t, X_t_train, y_t_train, X_t_test, y_t_test)















