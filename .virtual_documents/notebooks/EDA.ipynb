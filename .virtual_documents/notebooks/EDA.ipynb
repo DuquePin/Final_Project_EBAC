











import pandas as pd

import seaborn as sns
import matplotlib.pyplot as plt

from ydata_profiling import ProfileReport

%matplotlib inline





df = pd.read_csv('../data/raw/train.csv')
df.head(5)














print(f'Nosso dataset contêm:\n{df.shape[0]} linhas')
print(f'{df.shape[1]} colunas')





# Cria um dataframe para verificar se existe items nulos nas colunas
pd.DataFrame(index=[col for col in df], data=[df[col].isna().unique() for col in df])[0].unique()


# Verifica os tipos dos dados
df.dtypes.unique()


# Verifica se existe linhas duplicas
df.duplicated().unique()


# Resumo das informações
df.info()





# Criando os relatórios
profile1 = ProfileReport(df.loc[:, quant], title='Relatório de Análise Exploratória das Variáveis Quantitativas', explorative=True)

# Salvando os relatórios na pasta de relatórios
profile.to_file('../reports/Relatório_Análise_Exploratória.html')





df['y'] = df['Target'].map({'Dropout': 0, 'Graduate': 1, 'Enrolled': 2})

cols = ['Curricular units 1st sem (enrolled)',
        'Curricular units 1st sem (approved)',
        'Curricular units 1st sem (credited)',
        'Curricular units 1st sem (evaluations)',
        'Curricular units 1st sem (grade)',
        'Curricular units 2nd sem (enrolled)',
        'Curricular units 2nd sem (approved)',
        'Curricular units 2nd sem (credited)',
        'Curricular units 2nd sem (evaluations)',
        'Curricular units 2nd sem (grade)',
        'y'
       ]

sns.clustermap(df[cols].corr(), cmap='Blues', center=0)
plt.tight_layout()
plt.show()














sns.clustermap(df.loc[:, quant].corr(), cmap='Blues', center=0)
plt.tight_layout()
plt.show()





df.loc[:, quant].corr().apply(abs)[df.loc[:, quant].corr() != 1.0].max().sort_values(ascending=False).iloc[:5]





corr_quant_target = pd.concat([df.loc[:, quant], df['Target'].map({'Graduate': 0, 'Dropout': 1, 'Enrolled': 2})], axis=1).corr().apply(abs)['Target'].sort_values(ascending=False)
corr_quant_target


corr_quant_target.mean()








sns.clustermap(df.loc[:, qual].drop('Target', axis=1).corr(), cmap='Blues', center=0)
plt.tight_layout()
plt.show()





df.loc[:, qual].drop('Target', axis=1).corr().apply(abs)[df.loc[:, qual].drop('Target', axis=1).corr() != 1.0].max().sort_values(ascending=False).iloc[:5]





corr_qual_target = pd.concat([df.loc[:, qual].drop('Target', axis=1), df['Target'].map({'Graduate': 0, 'Dropout': 1, 'Enrolled': 2})], axis=1).corr().apply(abs)['Target'].sort_values(ascending=False)
corr_qual_target


corr_qual_target.mean()









