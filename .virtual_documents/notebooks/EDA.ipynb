











import numpy as np
import pandas as pd

import seaborn as sns
import matplotlib.pyplot as plt

from scipy.stats import pointbiserialr

from ydata_profiling import ProfileReport

%matplotlib inline





df = pd.read_csv('../data/raw/train.csv')
df.head(5)











print(f'Nosso dataset contêm:\n{df.shape[0]} linhas')
print(f'{df.shape[1]} colunas')





# Cria um dataframe para verificar se existe items nulos nas colunas
pd.DataFrame(index=[col for col in df], data=[df[col].isna().unique() for col in df])[0].unique()


# Verifica os tipos dos dados
df.dtypes.unique()


# Verifica se existe linhas duplicas
df.duplicated().unique()


# Resumo das informações
df.info()








# Criando o relatório
profile = ProfileReport(df, title='Relatório de Análise Exploratória', explorative=True)

# Salvando os relatórios na pasta de relatórios do projeto
profile.to_file('../reports/Relatório_Análise_Exploratória.html')








# Criando uma cópia do dataframe original para não comprometer os dados
df_exp = df.copy()

# Selecionando manualmente todas as variáveis contínuas do dataset
cols_continuas = [
    'Previous qualification (grade)',
    'Admission grade',
    'Age at enrollment',
    'Curricular units 1st sem (credited)',
    'Curricular units 1st sem (enrolled)',
    'Curricular units 1st sem (evaluations)',
    'Curricular units 1st sem (approved)',
    'Curricular units 1st sem (grade)',
    'Curricular units 1st sem (without evaluations)',
    'Curricular units 2nd sem (credited)',
    'Curricular units 2nd sem (enrolled)',
    'Curricular units 2nd sem (evaluations)',
    'Curricular units 2nd sem (approved)',
    'Curricular units 2nd sem (grade)',
    'Curricular units 2nd sem (without evaluations)',
    'Unemployment rate',
    'Inflation rate',
    'GDP',
    ]

# Visualizando subgrupo de variáveis contínuas
df_exp[cols_continuas].head(5)


# Visualizando subgrupo de variáveis categóricas
df_exp.drop(cols_continuas, axis=1).head(5)





# Visualizando resumo
df_exp[cols_continuas].describe()





# Função para plotagem de histogramas de duas variáveis
def plotar_histograma(coluna1, coluna2, titulo1, titulo2):
    fig, axes = plt.subplots(ncols=2, sharey=True, figsize=(12, 6))

    sns.histplot(df_exp[coluna1], kde=True, bins=10, ax=axes[0])
    sns.histplot(df_exp[coluna2], kde=True, bins=10, ax=axes[1])
    
    axes[0].set_title(titulo1)
    axes[1].set_title(titulo2)
    
    plt.tight_layout()
    plt.show()

# Função para plotagem de boxplots de duas variáveis
def plotar_boxplot(coluna1, coluna2, titulo1, titulo2):
    fig, axes = plt.subplots(ncols=2, sharey=True, figsize=(12, 6))
    sns.boxplot(df_exp[coluna1], ax=axes[0])
    sns.boxplot(df_exp[coluna2], ax=axes[1])
    
    axes[0].set_title(titulo1)
    axes[1].set_title(titulo2)
    
    plt.tight_layout()
    plt.show()

# Função para plotagem de histograma e boxplot de uma única variáveis
def plotar_hist_e_box(coluna, cor, titulo_hist, titulo_box):
    sns.histplot(df_exp[coluna], kde=True, bins=10, color=cor)
    plt.title(titulo_hist)
    plt.show()
    
    sns.boxplot(x=df_exp[coluna])
    plt.title(titulo_box)
    plt.show()





# Histograma para o número de disciplinas matriculadas no 1º e 2º semestre
plotar_histograma('Curricular units 1st sem (enrolled)', 'Curricular units 2nd sem (enrolled)', 
                  'Distribuição de Disciplinas Matriculadas - 1º Semestre', 'Distribuição de Disciplinas Matriculadas - 2º Semestre')


# Boxplot das disciplinas matriculadas
plotar_boxplot('Curricular units 1st sem (enrolled)', 'Curricular units 2nd sem (enrolled)', 
                  'Boxplot das Disciplinas Matriculadas - 1º Semestre', 'Boxplot das Disciplinas Matriculadas - 2º Semestre')





enrolled_1st = df_exp['Curricular units 1st sem (enrolled)'].mean()
enrolled_2nd = df_exp['Curricular units 2nd sem (enrolled)'].mean()

print(f"Um aluno médio da instituição se matricula em aproxidamente {round(enrolled_1st)} disciplinas no 1º semestre")
print(f"E se matricula em aproxidamente {round(enrolled_2nd)} disciplinas no 2º semestre.")
print(f"Totalizando uma média de disciplinas matriculadas no ano igual a {round((enrolled_1st + enrolled_2nd) / 2)} disciplinas.")





print(f"O aumento na média é igual a {enrolled_2nd - enrolled_1st:.4f}")
print(f"Representando um aumento percentual de {((enrolled_2nd - enrolled_1st) / enrolled_1st)*100:.2f}% na média do 1º semestre")





# Histograma para as notas do 1º e 2º semestre
plotar_histograma('Curricular units 1st sem (grade)', 'Curricular units 2nd sem (grade)',
                 'Distribuição de Notas no 1º Semestre', 'Distribuição de Notas no 2º Semestre')





plotar_boxplot('Curricular units 1st sem (grade)', 'Curricular units 2nd sem (grade)',
                 'Boxplot de Notas no 1º Semestre', 'Boxplot de Notas no 2º Semestre')





grades_1st = df_exp['Curricular units 1st sem (grade)'].mean()
grades_2nd = df_exp['Curricular units 2nd sem (grade)'].mean()

print(f"A média de notas dos alunos no 1º semestre é de {round(grades_1st)}.")
print(f"A média de notas dos alunos no 2º semestre é de {round(grades_2nd)}.")
print(f"Totalizando uma média anual igual a {round((grades_1st + grades_2nd) / 2)}.")


print(f"A diminuição na média é igual a {grades_2nd - grades_1st:.4f}")
print(f"Representando uma baixa percentual de {((grades_2nd - grades_1st) / grades_1st)*100:.2f}% na média do 1º semestre")





plotar_histograma('Curricular units 1st sem (approved)', 'Curricular units 2nd sem (approved)',
                 'Distribuição de Disciplinas Aprovadas no 1º Semestre', 'Distribuição de Disciplinas Aprovadas no 2º Semestre')





tab_freq_approved_1st = (df_exp['Curricular units 1st sem (approved)'].value_counts() / df_exp.shape[0]) * 100
tab_freq_approved_2nd = (df_exp['Curricular units 2nd sem (approved)'].value_counts() / df_exp.shape[0]) * 100

print('Composição de Classes de Frequência no 1º Semestre:')
print('='*50)
print(tab_freq_approved_1st)
print('='*50)
print('Composição de Classes de Frequência no 2º Semestre:')
print(tab_freq_approved_2nd)
print('='*50)
print('Diferença na Composição das Classes de Frequência')
print(tab_freq_approved_2nd - tab_freq_approved_1st)
print('='*50)





plotar_boxplot('Curricular units 1st sem (approved)', 'Curricular units 2nd sem (approved)',
                 'Boxplot de Disciplinas Aprovadas no 1º Semestre', 'Boxplot de Disciplinas Aprovadas no 2º Semestre')





# Porcentagem média de aprovação
aprov_1st = ((df_exp['Curricular units 1st sem (approved)'] / df_exp['Curricular units 1st sem (enrolled)'])
             .replace([np.inf, -np.inf], np.nan)
             .bfill()
             .mean()) * 100

aprov_2nd = ((df_exp['Curricular units 2nd sem (approved)'] / df_exp['Curricular units 2nd sem (enrolled)'])
             .replace([np.inf, -np.inf], np.nan)
             .bfill()
             .mean()) * 100

print(f'A taxa média de aprovação em disciplinas no 1º semestre dos alunos é de {aprov_1st:.2f}%')
print(f'A taxa média de aprovação em disciplinas no 2º semestre dos alunos é de {aprov_2nd:.2f}%')
print(f'A taxa média de aprovação em disciplinas no ano letivo dos alunos é de {(aprov_1st+aprov_2nd)/2:.2f}%')





plotar_hist_e_box('Age at enrollment', 'blue', 'Distribuição da Idade na Matrícula', 'Boxplot da Idade na Matrícula')





((df_exp['Age at enrollment'].value_counts()/df_exp.shape[0])*100).sort_values()[-3:]





plotar_hist_e_box('Admission grade', 'skyblue', 'Distribuição da Nota de Admissão', 'Boxplot da Nota de Admissão na Matrícula')





plotar_hist_e_box('Previous qualification (grade)', 'green', 
                  'Distribuição das Notas de Qualificação Anterior', 'Boxplot da Nota da Qualificação Anterior a Matrícula')





plotar_hist_e_box('Unemployment rate', 'orange', 
                  'Distribuição da Taxa de Desemprego', 'Boxplot das Taxas de Desemprego')





plotar_hist_e_box('Inflation rate', 'purple', 
                  'Distribuição da Taxa de Inflação', 'Boxplot das Taxas de Inflação')





plotar_hist_e_box('GDP', 'red', 'Distribuição do GDP', 'Boxplot do GDP')








df_exp.drop(cols_continuas, axis=1).head(5)





# Função para calcular e mostrar a tabela de frequência das variáveis categóricas
def freq_classes(col):
    # Calcula a tabela de frequência
    tab_freq = (df_exp[col].value_counts() / df_exp.shape[0]) * 100

    # Visualiza a tabela de frequência
    print('='*138)
    print(f'Distribuição Percentual das Classes para {col}')
    print(tab_freq)
    print('='*138)
    
    # Plota o gráfico de barras
    plt.figure(figsize=(10, 6))
    tab_freq.sort_values(ascending=False).plot(kind='bar', color='skyblue', edgecolor='black')
    
    # Personaliza o gráfico
    plt.title(f'Frequência Percentual de {col}', fontsize=16)
    plt.xlabel(col, fontsize=14)
    plt.ylabel('Frequência Percentual (%)', fontsize=14)
    plt.grid(axis='y', linestyle='--', alpha=0.7)

    # Exibe o gráfico
    plt.tight_layout()
    plt.show()


for var in df_exp.drop(cols_continuas, axis=1).drop('id', axis=1).columns:
    freq_classes(var)











cor = pd.DataFrame([(col, *pointbiserialr(df_exp['y'], df_exp[col])) for col in df_exp[cont_cols]], columns=['Variável', 'Correlação com y', 'P-value'])
cor





# Gráfico de notas do primeiro semestre comparado com notas do segundo semestre
sns.boxplot(df_exp[['Curricular units 1st sem (grade)', 'Curricular units 2nd sem (grade)']])
plt.show()


# Gráfico de quantidade de disciplinadas aprovadas no primeiro semestre comparado ao segundo semetre
sns.boxplot(df_exp[['Curricular units 1st sem (approved)', 'Curricular units 2nd sem (approved)']])
plt.show()





df_exp['Target'].unique()


df_exp['Dropout'] = df_exp['Target'].map({'Graduate': False, 'Enrolled': False, 'Dropout': True})

grades = (df_exp[['Dropout', 'Curricular units 1st sem (grade)', 'Curricular units 2nd sem (grade)']]
          .assign(avarage_by_student=(df_exp['Curricular units 1st sem (grade)'] + df_exp['Curricular units 2nd sem (grade)'])/2))

grades['avarage_by_category'] = df_exp['Dropout'].map(grades.groupby('Dropout')['avarage_by_student'].mean())

grades['resid'] = grades['avarage_by_student'] - grades['avarage_by_category']

grades.head(5)


plt.figure(figsize=(10, 6))

sns.scatterplot(
    data=grades,
    x='Curricular units 1st sem (grade)',
    y='Curricular units 2nd sem (grade)',
    hue='Dropout',
    size='avarage_by_student',
    sizes=(50, 200),
    palette={True: 'red', False: 'blue'},
    alpha=0.8,
    legend='brief'
)

plt.title('Desempenho Acadêmico por Categoria de Alunos')
plt.xlabel('Notas do Primeiro Semestre')
plt.ylabel('Notas do Segundo Semestre')
plt.legend(title='Legenda', bbox_to_anchor=(1.05, 1), loc='upper left')
plt.grid(True)
plt.tight_layout()
plt.show()


sns.scatterplot(
    data=grades,
    x='resid',
    y='avarage_by_student',
    hue='Dropout'
)

plt.show()





approved = (df_exp[['Dropout', 'Curricular units 1st sem (approved)', 'Curricular units 2nd sem (approved)']]
          .assign(avarage_by_student=(df_exp['Curricular units 1st sem (approved)'] + df_exp['Curricular units 2nd sem (approved)'])/2))

approved['avarage_by_category'] = df_exp['Dropout'].map(approved.groupby('Dropout')['avarage_by_student'].mean())

approved.head(5)


plt.figure(figsize=(10, 6))

sns.scatterplot(
    data=approved,
    x='Curricular units 1st sem (approved)',
    y='Curricular units 2nd sem (approved)',
    hue='Dropout',
    size='avarage_by_student',
    sizes=(50, 200),
    palette={True: 'red', False: 'blue'},
    alpha=0.8,
    legend='brief'
)

plt.title('Quantidade de Disciplinas Aprovadas por Categoria de Alunos')
plt.xlabel('Quantidade de Disciplinas Aprovadas no Primeiro Semestre')
plt.ylabel('Quantidade de Disciplinas Aprovadas no Segundo Semestre')
plt.legend(title='Legenda', bbox_to_anchor=(1.05, 1), loc='upper left')
plt.grid(True)
plt.tight_layout()
plt.show()








g = sns.catplot(
    data=df_exp,
    x='Debtor', hue='Target', col='Tuition fees up to date',
    palette={'Dropout': 'red', 'Not Dropout': 'blue'},
    kind='count',
    height=4, aspect=1.2
)
g.fig.suptitle('Distribuição por Categoria de Aluno', y=1.05)
plt.show()


from sklearn.utils import resample

grouped = df_exp.groupby(['Tuition fees up to date', 'Debtor'])

# Encontrando o tamanho máximo entre as combinações
max_size = grouped.size().max()

# Superamostragem para cada combinação
balanced_data = grouped.apply(
    lambda x: resample(x, replace=True, n_samples=max_size, random_state=412)
).reset_index(drop=True)

print(balanced_data.groupby(['Tuition fees up to date', 'Debtor']).size())


g = sns.catplot(
    data=balanced_data,
    x='Debtor', hue='Target', col='Tuition fees up to date',
    kind='count',
    palette={'Dropout': 'red', 'Not Dropout': 'blue'},
    height=4, aspect=1.2
)
g.fig.suptitle('Distribuição por Categoria de Aluno Balanceada', y=1.05)
plt.show()





cols.extend(['Tuition fees up to date', 'Debtor'])


balanced_data[cols].corr()['y']


cor_balanced = balanced_data.corr(numeric_only=True)['y']
cor_balanced


pd.Series([cor_balanced[cor_balanced == row].index[0] if abs(row) > 0.18 else np.nan for row in cor_balanced]).dropna()












