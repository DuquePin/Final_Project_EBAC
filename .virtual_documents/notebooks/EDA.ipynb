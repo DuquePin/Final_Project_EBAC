











# Importando bibliotecas

# Manipulação dos dados
import numpy as np
import pandas as pd

# Visualização dos dados
import seaborn as sns
import matplotlib.pyplot as plt

# Fórmulas matemáticas
from scipy.stats import pointbiserialr, chi2_contingency

# Criação de relatórios
from ydata_profiling import ProfileReport

# Configuração do notebook
%matplotlib inline





# Importando dados em um dataframe
df = pd.read_csv('../data/raw/train.csv')
df.head(5)











print(f'O dataset contêm:\n{df.shape[0]} linhas')
print(f'{df.shape[1]} colunas')


# Cria um dataframe para verificar se existe items nulos nas linhas ou colunas
if not pd.DataFrame(index=[col for col in df], data=[df[col].isna().unique() for col in df])[0].unique()[0]:
    print('O dataset não possui linhas ou colunas com valores faltantes')
else:
    print('O dataset possui linhas ou colunas com valores faltantes')


# Verifica os tipos dos dados
print('Os tipos dos dados no dataset são:')
for tipo in df.dtypes.unique():
    print(tipo)


# Verifica se existe linhas duplicas
if not df.duplicated().unique()[0]:
    print('O dataset não possui linhas duplicadas')
else:
    print('O dataset possui linhas duplicadas')


# Resumo das informações
df.info()








# Criando o relatório
profile = ProfileReport(df, title='Relatório de Análise Exploratória', explorative=True)

# Salvando os relatórios na pasta de relatórios do projeto
profile.to_file('../reports/Relatório_Análise_Exploratória.html')








# Criando uma cópia do dataframe original para não comprometer os dados
df_exp = df.copy()

# Selecionando manualmente todas as variáveis contínuas do dataset
cols_continuas = [
    'Previous qualification (grade)',
    'Admission grade',
    'Age at enrollment',
    'Curricular units 1st sem (credited)',
    'Curricular units 1st sem (enrolled)',
    'Curricular units 1st sem (evaluations)',
    'Curricular units 1st sem (approved)',
    'Curricular units 1st sem (grade)',
    'Curricular units 1st sem (without evaluations)',
    'Curricular units 2nd sem (credited)',
    'Curricular units 2nd sem (enrolled)',
    'Curricular units 2nd sem (evaluations)',
    'Curricular units 2nd sem (approved)',
    'Curricular units 2nd sem (grade)',
    'Curricular units 2nd sem (without evaluations)',
    'Unemployment rate',
    'Inflation rate',
    'GDP',
    ]

# Visualizando subgrupo de variáveis contínuas
df_exp[cols_continuas].head(5)


# Visualizando subgrupo de variáveis categóricas
df_exp.drop(cols_continuas, axis=1).head(5)





# Visualizando resumo de estatísticas
df_exp[cols_continuas].describe()








# Função para plotagem de histogramas de duas variáveis contínuas
def plotar_histograma(coluna1, coluna2, titulo1, titulo2):
    # Cria a figura e eixo do gráfico, garantindo que eles partilham o mesmo eixo y
    fig, axes = plt.subplots(ncols=2, sharey=True, figsize=(12, 6))

    # Cria dois plots e adiciona-os na figura criada
    sns.histplot(df_exp[coluna1], kde=True, bins=10, ax=axes[0])
    sns.histplot(df_exp[coluna2], kde=True, bins=10, ax=axes[1])

    # Define o título de cada plot individual com base no parâmetro passado
    axes[0].set_title(titulo1)
    axes[1].set_title(titulo2)

    # Visualiza a figura final
    plt.tight_layout()
    plt.show()

# Função para plotagem de boxplots de duas variáveis contínuas
def plotar_boxplot(coluna1, coluna2, titulo1, titulo2):
    # Cria a figura e eixo do gráfico, garantindo que eles partilham o mesmo eixo y
    fig, axes = plt.subplots(ncols=2, sharey=True, figsize=(12, 6))

    # Cria dois plots e adiciona-os na figura criada
    sns.boxplot(df_exp[coluna1], ax=axes[0])
    sns.boxplot(df_exp[coluna2], ax=axes[1])
    
    # Define o título de cada plot individual com base no parâmetro passado
    axes[0].set_title(titulo1)
    axes[1].set_title(titulo2)

    # Visualiza a figura final
    plt.tight_layout()
    plt.show()

# Função para plotagem de histograma e boxplot de uma única variável contínua
def plotar_hist_e_box(coluna, cor, titulo_hist, titulo_box):
    # Cria e visualiza o histograma, já com o título definido com base no parâmetro passado
    sns.histplot(df_exp[coluna], kde=True, bins=10, color=cor)
    plt.title(titulo_hist)
    plt.show()

    # Cria e visualiza o boxplot, já com o título definido com base no parâmetro passado
    sns.boxplot(x=df_exp[coluna])
    plt.title(titulo_box)
    plt.show()





# Histograma para o número de disciplinas matriculadas no 1º e 2º semestre
plotar_histograma('Curricular units 1st sem (enrolled)', 'Curricular units 2nd sem (enrolled)', 
                  'Distribuição de Disciplinas Matriculadas - 1º Semestre', 'Distribuição de Disciplinas Matriculadas - 2º Semestre')


# Boxplot das disciplinas matriculadas
plotar_boxplot('Curricular units 1st sem (enrolled)', 'Curricular units 2nd sem (enrolled)', 
                  'Boxplot das Disciplinas Matriculadas - 1º Semestre', 'Boxplot das Disciplinas Matriculadas - 2º Semestre')





matriculado_1st = df_exp['Curricular units 1st sem (enrolled)'].mean()
matriculado_2nd = df_exp['Curricular units 2nd sem (enrolled)'].mean()

print(f'Um aluno médio da instituição se matricula em aproxidamente {matriculado_1st:.2f} disciplinas no 1º semestre')
print(f'E se matricula em aproxidamente {matriculado_2nd:.2f} disciplinas no 2º semestre.')
print(f'Totalizando uma média de disciplinas matriculadas no ano igual a {(matriculado_1st + matriculado_2nd) / 2:.2f} disciplinas.')





print(f'O aumento na média é igual a {enrolled_2nd - enrolled_1st:.4f}')
print(f'Representando um aumento percentual de {((enrolled_2nd - enrolled_1st) / enrolled_1st)*100:.2f}% na média do 1º semestre')








# Histograma para as notas do 1º e 2º semestre
plotar_histograma('Curricular units 1st sem (grade)', 'Curricular units 2nd sem (grade)',
                 'Distribuição de Notas no 1º Semestre', 'Distribuição de Notas no 2º Semestre')


plotar_boxplot('Curricular units 1st sem (grade)', 'Curricular units 2nd sem (grade)',
                 'Boxplot de Notas no 1º Semestre', 'Boxplot de Notas no 2º Semestre')





notas_1st = df_exp['Curricular units 1st sem (grade)'].mean()
notas_2nd = df_exp['Curricular units 2nd sem (grade)'].mean()

print(f'A média de notas dos alunos no 1º semestre é de {notas_1st:.2f}.')
print(f'A média de notas dos alunos no 2º semestre é de {notas_2nd:.2f}.')
print(f'Totalizando uma média anual igual a {(notas_1st + notas_2nd) / 2:.2f}.')


print(f'A diminuição na média é igual a {grades_2nd - grades_1st:.4f}')
print(f'Representando uma baixa percentual de {((grades_2nd - grades_1st) / grades_1st)*100:.2f}% na média no 2º semestre')








plotar_histograma('Curricular units 1st sem (approved)', 'Curricular units 2nd sem (approved)',
                 'Distribuição de Disciplinas Aprovadas no 1º Semestre', 'Distribuição de Disciplinas Aprovadas no 2º Semestre')


plotar_boxplot('Curricular units 1st sem (approved)', 'Curricular units 2nd sem (approved)',
                 'Boxplot de Disciplinas Aprovadas no 1º Semestre', 'Boxplot de Disciplinas Aprovadas no 2º Semestre')


tab_freq_approved_1st = (df_exp['Curricular units 1st sem (approved)'].value_counts() / df_exp.shape[0]) * 100
tab_freq_approved_2nd = (df_exp['Curricular units 2nd sem (approved)'].value_counts() / df_exp.shape[0]) * 100

print('Composição de Classes de Frequência no 1º Semestre:')
print('='*50)
print(tab_freq_approved_1st)
print('='*50)
print('Composição de Classes de Frequência no 2º Semestre:')
print(tab_freq_approved_2nd)
print('='*50)
print('Diferença na Composição das Classes de Frequência')
print(tab_freq_approved_2nd - tab_freq_approved_1st)
print('='*50)





aprov_1st = ((df_exp['Curricular units 1st sem (approved)'] / df_exp['Curricular units 1st sem (enrolled)'])
             .replace([np.inf, -np.inf], np.nan)
             .bfill()
             .mean()) * 100

aprov_2nd = ((df_exp['Curricular units 2nd sem (approved)'] / df_exp['Curricular units 2nd sem (enrolled)'])
             .replace([np.inf, -np.inf], np.nan)
             .bfill()
             .mean()) * 100

print(f'A taxa média de aprovação em disciplinas no 1º semestre dos alunos é de {aprov_1st:.2f}%')
print(f'A taxa média de aprovação em disciplinas no 2º semestre dos alunos é de {aprov_2nd:.2f}%')
print(f'A taxa média de aprovação em disciplinas no ano letivo dos alunos é de {(aprov_1st+aprov_2nd)/2:.2f}%')








plotar_hist_e_box('Age at enrollment', 'blue', 'Distribuição da Idade na Matrícula', 'Boxplot da Idade na Matrícula')





# Mostrando as três idades mais frequentes
((df_exp['Age at enrollment'].value_counts()/df_exp.shape[0])*100).sort_values()[-3:]








plotar_hist_e_box('Admission grade', 'skyblue', 'Distribuição da Nota de Admissão', 'Boxplot da Nota de Admissão na Matrícula')








plotar_hist_e_box('Previous qualification (grade)', 'green', 
                  'Distribuição das Notas de Qualificação Anterior', 'Boxplot da Nota da Qualificação Anterior a Matrícula')








plotar_hist_e_box('Unemployment rate', 'orange', 
                  'Distribuição da Taxa de Desemprego', 'Boxplot das Taxas de Desemprego')








plotar_hist_e_box('Inflation rate', 'purple', 
                  'Distribuição da Taxa de Inflação', 'Boxplot das Taxas de Inflação')








plotar_hist_e_box('GDP', 'red', 'Distribuição do GDP', 'Boxplot do GDP')








df_exp.drop(cols_continuas, axis=1).head(5)





# Função para calcular e mostrar a tabela de frequência das variáveis categóricas
def freq_classes(col):
    # Caria a tabela de frequência em termos percentuais
    tab_freq = (df_exp[col].value_counts() / df_exp.shape[0]) * 100

    # Visualiza a tabela de frequência
    print('='*138)
    print(f'Distribuição Percentual das Classes para {col}')
    print(tab_freq)
    print('='*138)
    
    # Plota o gráfico de barras
    plt.figure(figsize=(10, 6))
    tab_freq.sort_values(ascending=False).plot(kind='bar', color='skyblue', edgecolor='black')
    
    # Personaliza o gráfico
    plt.title(f'Frequência Percentual de {col}', fontsize=16)
    plt.xlabel(col, fontsize=14)
    plt.ylabel('Frequência Percentual (%)', fontsize=14)
    plt.grid(axis='y', linestyle='--', alpha=0.7)

    # Exibe o gráfico
    plt.tight_layout()
    plt.show()


for var in df_exp.drop(cols_continuas, axis=1).drop('id', axis=1).columns:
    freq_classes(var)








# Função para calcular o índice de gini de acordo com a fórnula
def calcular_gini(pi):
    return 1 - np.sum(pi**2)

# Função para calcular o índice de shannon de acordo com a fórnula
def calcular_shannon(pi):
    return -np.sum(pi * np.log(pi))

# Função para avaliar a variável categórica de acordo com seus índices
def avaliar_variavel_categorica(col):
    # Calcula proporção das classes
    pi = df_exp[col].value_counts() / df_exp.shape[0]
    
    # Calcula índice gini
    gini = calcular_gini(pi)
    
    # Calcula índice shannon
    shannon = calcular_shannon(pi)

    # Calcula entropia máxima dado o número de classes
    max_shannon = np.log(df_exp[col].nunique())

    print('='*50)
    print(f'A variável {col} possui:\nÍndice de Gini = {gini}\nÍndice de Shannon = {shannon}')

    # Classificação pelo Gini
    if gini >= 0.8:
        classe_gini = 'Totalmente desbalanceada'
    elif gini >= 0.6:
        classe_gini = 'Altamente desbalanceada'
    elif gini >= 0.4:
        classe_gini = 'Moderadamente desbalanceada'
    else:
        classe_gini = 'Balanceada'
    
    # Classificação pelo Shannon
    if shannon <= 0.2 * max_shannon:
        classe_shannon = 'Totalmente desbalanceada'
    elif shannon <= 0.4 * max_shannon:
        classe_shannon = 'Altamente desbalanceada'
    elif shannon <= 0.7 * max_shannon:
        classe_shannon = 'Moderadamente desbalanceada'
    else:
        classe_shannon = 'Balanceada'

    # Ajuste final da classificação considerando Gini e Shannon
    if classe_gini == 'Totalmente desbalanceada' or classe_shannon == 'Totalmente desbalanceada':
        class_final = 'Totalmente desbalanceada'
    elif classe_gini == 'Altamente desbalanceada' or classe_shannon == 'Altamente desbalanceada':
        class_final = 'Altamente desbalanceada'
    elif classe_gini == 'Moderadamente desbalanceada' or classe_shannon == 'Moderadamente desbalanceada':
        class_final = 'Moderadamente desbalanceada'
    else:
        class_final = 'Balanceada'

    # Imprimir a classificação final
    print(f'Classificamos ela como {class_final}')


for var in df_exp.drop(cols_continuas, axis=1).drop('id', axis=1).columns:
    avaliar_variavel_categorica(var)





# Criando dicionário com a classificação criada
variaveis_categoricas_classificacao = {
    "Marital status": "Totalmente desbalanceada",
    "Application mode": "Altamente desbalanceada",
    "Application order": "Moderadamente desbalanceada",
    "Course": "Totalmente desbalanceada",
    "Daytime/evening attendance": "Moderadamente desbalanceada",
    "Previous qualification": "Totalmente desbalanceada",
    "Nacionality": "Totalmente desbalanceada",
    "Mother's qualification": "Altamente desbalanceada",
    "Father's qualification": "Altamente desbalanceada",
    "Mother's occupation": "Altamente desbalanceada",
    "Father's occupation": "Totalmente desbalanceada",
    "Displaced": "Moderadamente desbalanceada",
    "Educational special needs": "Totalmente desbalanceada",
    "Debtor": "Altamente desbalanceada",
    "Tuition fees up to date": "Moderadamente desbalanceada",
    "Gender": "Moderadamente desbalanceada",
    "Scholarship holder": "Balanceada",
    "International": "Totalmente desbalanceada",
    "Target": "Altamente desbalanceada"
}

# Armazendo classificação criada em arquivo feather
(pd.DataFrame(list(variaveis_categoricas_classificacao.items()), columns=['Variável', 'Classificação'])
 .to_feather(path='../data/processed/classificacao_variaveis_categoricas.feather'))











df_exp['Target'] = df_exp['Target'].map({'Graduate': 0, 'Enrolled': 0, 'Dropout': 1})
df_exp['Target'].head(5)


# Criando tabela de correlação
cor = pd.DataFrame([(col, *pointbiserialr(df_exp['Target'], df_exp[col])) for col in df_exp[cols_continuas]], columns=['Variável', 'Correlação com Target', 'P-value'])
cor





notas = (df_exp[['Target', 'Curricular units 1st sem (grade)', 'Curricular units 2nd sem (grade)']]
          .assign(media_por_estudante=(df_exp['Curricular units 1st sem (grade)'] + df_exp['Curricular units 2nd sem (grade)'])/2))

notas['media_por_categoria'] = df_exp['Target'].map(notas.groupby('Target')['media_por_estudante'].mean())

notas['residuo'] = notas['media_por_estudante'] - notas['media_por_categoria']

notas.head(5)


# Cria a figura
plt.figure(figsize=(10, 6))

# Cria o gráfico de dispersão
sns.scatterplot(
    data=notas,
    x='Curricular units 1st sem (grade)',
    y='Curricular units 2nd sem (grade)',
    hue='Target',
    size='media_por_estudante',
    sizes=(50, 200),
    palette={1: 'red', 0: 'blue'},
    alpha=0.8,
    legend='brief'
)

# Configura a figura
plt.title('Desempenho Acadêmico por Categoria de Alunos')
plt.xlabel('Notas do Primeiro Semestre')
plt.ylabel('Notas do Segundo Semestre')
plt.legend(title='Legenda', bbox_to_anchor=(1.05, 1), loc='upper left')
plt.grid(True)
plt.tight_layout()

# Visualiza a figura 
plt.show()


# Plotando o resíduo
plt.figure(figsize=(10, 6))
sns.boxplot(x='Target', y='residuo', data=notas)

# Definindo título e rótulos
plt.title('Distribuição do Resíduo por Categoria')
plt.xlabel('Categoria')
plt.ylabel('Resíduo')

# Exibindo o gráfico
plt.show()





aprovados = (df_exp[['Target', 'Curricular units 1st sem (approved)', 'Curricular units 2nd sem (approved)']]
          .assign(media_por_estudante=(df_exp['Curricular units 1st sem (approved)'] + df_exp['Curricular units 2nd sem (approved)'])/2))

aprovados['media_por_categoria'] = df_exp['Target'].map(aprovados.groupby('Target')['media_por_estudante'].mean())

aprovados.head(5)


# Cria a figura
plt.figure(figsize=(10, 6))

# Cria o gráfico de dispersão
sns.scatterplot(
    data=aprovados,
    x='Curricular units 1st sem (approved)',
    y='Curricular units 2nd sem (approved)',
    hue='Target',
    size='media_por_estudante',
    sizes=(50, 200),
    palette={1: 'red', 0: 'blue'},
    alpha=0.8,
    legend='brief'
)

# Configura a figura
plt.title('Quantidade de Disciplinas Aprovadas por Categoria de Alunos')
plt.xlabel('Quantidade de Disciplinas Aprovadas no Primeiro Semestre')
plt.ylabel('Quantidade de Disciplinas Aprovadas no Segundo Semestre')
plt.legend(title='Legenda', bbox_to_anchor=(1.05, 1), loc='upper left')
plt.grid(True)
plt.tight_layout()

# Visualiza a figura 
plt.show()











def cramers_v(confusion_matrix):
    # Calcular o valor do qui-quadrado
    chi2, p, dof, expected = chi2_contingency(confusion_matrix)
    
    # Número de observações
    n = confusion_matrix.sum().sum()

    # Número de linhas e colunas
    r, c = confusion_matrix.shape
    
    # Calculando o valor de Cramér's V
    v = np.sqrt(chi2 / (n * min(r - 1, c - 1)))
    
    return v


# Aplicando função nas variáveis
pd.DataFrame(
    {col: [cramers_v(pd.crosstab(df_exp['Target'], df_exp[col]))] for col in df_exp.drop('id', axis=1).drop(cols_continuas, axis=1).columns})





# Função para analisar uma variável categórica binária
def analisar_variavel_categorica_binaria(col):
    plotar_catplot(col)

    # Cria tabela cruzada
    cross = pd.crosstab(index=df_exp['Target'], columns=df_exp[col])

    # Visualiza proporções gerais 
    print('Proporção por nº de observações totais')
    print((cross / df_exp.shape[0]) * 100)
    print()

    # Visuaiza proporção por classe
    print(f'Proporção por nº de observações de classe de {col}')
    print('Classe 0:')
    print((cross[0] / cross[0].sum()) * 100)
    print()
    print('Classe 1:')
    print((cross[1] / cross[1].sum()) * 100)

def plotar_catplot(col):
    # Cria plot 
    g = sns.catplot(
        data=df_exp,
        x='Target',
        col=col,
        kind='count',
        height=4, 
        aspect=1.2,
        col_wrap=2
    )

    # Visualiza figura
    g.fig.suptitle(f'Distribuição por Categoria de Aluno da Variável {col}', y=1.05)
    plt.tight_layout()
    plt.show()

def analisar_variavel_categorica_multiclasse(col):
    plotar_catplot(col)

    # Cria tabela cruzada
    cross = pd.crosstab(index=df_exp['Target'], columns=df_exp[col])

    # Visualiza proporções gerais 
    print('Proporção por nº de observações totais')
    print((cross / df_exp.shape[0]) * 100)
    print()

    # Visualiza proporções por classe
    print(f'Proporção por nº de observações de classe de {col}')
    for classe in df_exp[col].unique():
        print(f'Classe {classe}:')
        print((cross[classe] / cross[classe].sum()) * 100)
        print()
        





analisar_variavel_categorica_binaria('Tuition fees up to date')





analisar_variavel_categorica_binaria('Scholarship holder')





# Cursos
cursos = {
    33: "Tecnologias de Produção de Biocombustíveis",
    171: "Animação e Design Multimédia",
    8014: "Serviço Social (atendimento noturno)",
    9003: "Agronomia",
    9070: "Design de Comunicação",
    9085: "Enfermagem Veterinária",
    9119: "Engenharia Informática",
    9130: "Equinicultura",
    9147: "Gestão",
    9238: "Serviço Social",
    9254: "Turismo",
    9500: "Enfermagem",
    9556: "Higiene Oral",
    9670: "Gestão de Publicidade e Marketing",
    9773: "Jornalismo e Comunicação",
    9853: "Ensino Básico",
    9991: "Gestão (atendimento noturno)"
}

# Mapeando variável course para facilitar leitura
df_exp['Course'] = df_exp['Course'].map(cursos)

# Prenchendo valores não identificados
df_exp['Course'] = df_exp['Course'].replace({np.nan: 'Não identificado'})


analisar_variavel_categorica_multiclasse('Course')








# Formas de aplicação
aplicacoes = {
    1: "1ª fase – contingente geral",
    2: "Portaria nº 612/93",
    5: "1ª fase - contingente especial (Ilha dos Açores)",
    7: "Titulares de outros cursos superiores",
    10: "Portaria nº 854-B/99",
    15: "Estudante internacional (bacharelado)",
    16: "1ª fase – contingente especial (Ilha da Madeira)",
    17: "2ª fase – contingente geral",
    18: "3ª fase – contingente geral",
    26: "Portaria n.º 533-A/99, alínea b2) (Plano Diferente)",
    27: "Portaria nº 533-A/99, item b3 (Outra Instituição)",
    39: "Maiores de 23 anos",
    42: "Transferência",
    43: "Mudança de curso",
    44: "Titulares de diploma de especialização tecnológica",
    51: "Mudança de instituição/curso",
    53: "Titulares de diplomas de ciclo curto",
    57: "Mudança de instituição/curso (Internacional)"
}

# Mapeando variável course para facilitar leitura
df_exp['Application mode'] = df_exp['Application mode'].map(aplicacoes)

# Prenchendo valores não identificados
df_exp['Application mode'] = df_exp['Application mode'].replace({np.nan: 'Não identificado'})


analisar_variavel_categorica_multiclasse('Application mode')















