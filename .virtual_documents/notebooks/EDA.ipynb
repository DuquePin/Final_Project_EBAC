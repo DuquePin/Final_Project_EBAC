











import numpy as np
import pandas as pd

import seaborn as sns
import matplotlib.pyplot as plt

from scipy.stats import pointbiserialr

from ydata_profiling import ProfileReport

%matplotlib inline
pd.option_context('mode.use_inf_as_na', True)





df = pd.read_csv('../data/raw/train.csv')
df.head(5)











print(f'Nosso dataset contêm:\n{df.shape[0]} linhas')
print(f'{df.shape[1]} colunas')





# Cria um dataframe para verificar se existe items nulos nas colunas
pd.DataFrame(index=[col for col in df], data=[df[col].isna().unique() for col in df])[0].unique()


# Verifica os tipos dos dados
df.dtypes.unique()


# Verifica se existe linhas duplicas
df.duplicated().unique()


# Resumo das informações
df.info()








# Criando o relatório
profile = ProfileReport(df, title='Relatório de Análise Exploratória', explorative=True)

# Salvando os relatórios na pasta de relatórios do projeto
profile.to_file('../reports/Relatório_Análise_Exploratória.html')








# Criando uma cópia do dataframe original para não comprometer os dados
df_exp = df.copy()

# Selecionando manualmente todas as variáveis contínuas do dataset
cols_continuas = [
    'Previous qualification (grade)',
    'Admission grade',
    'Age at enrollment',
    'Curricular units 1st sem (credited)',
    'Curricular units 1st sem (enrolled)',
    'Curricular units 1st sem (evaluations)',
    'Curricular units 1st sem (approved)',
    'Curricular units 1st sem (grade)',
    'Curricular units 1st sem (without evaluations)',
    'Curricular units 2nd sem (credited)',
    'Curricular units 2nd sem (enrolled)',
    'Curricular units 2nd sem (evaluations)',
    'Curricular units 2nd sem (approved)',
    'Curricular units 2nd sem (grade)',
    'Curricular units 2nd sem (without evaluations)',
    'Unemployment rate',
    'Inflation rate',
    'GDP',
    ]

# Visualizando subgrupo de variáveis contínuas
df_exp[cols_continuas].head(5)


# Visualizando subgrupo de variáveis categóricas
df_exp.drop(cols_continuas, axis=1).head(5)





# Visualizando resumo
df_exp[cols_continuas].describe()





# Histograma para o número de disciplinas matriculadas no 1º semestre
sns.histplot(df_exp['Curricular units 1st sem (enrolled)'], kde=True, bins=10)
plt.title('Distribuição de Disciplinas Matriculadas - 1º Semestre')
plt.show()

# Estatísticas descritivas
print(df_exp['Curricular units 1st sem (enrolled)'].describe())

# Boxplot
sns.boxplot(x=df_exp['Curricular units 1st sem (enrolled)'])
plt.title('Boxplot de Disciplinas Matriculadas - 1º Semestre')
plt.show()





# Histograma para as notas do 1º semestre
sns.histplot(df_exp['Curricular units 1st sem (grade)'], kde=True, bins=10)
plt.title('Distribuição de Notas - 1º Semestre')
plt.show()

# Estatísticas descritivas
print(df_exp['Curricular units 1st sem (grade)'].describe())

# Boxplot
sns.boxplot(x=df_exp['Curricular units 1st sem (grade)'])
plt.title('Boxplot de Notas - 1º Semestre')
plt.show()






# Histograma para o número de disciplinas aprovadas no 1º semestre
sns.histplot(df_exp['Curricular units 1st sem (approved)'], kde=False, bins=10)
plt.title('Distribuição de Disciplinas Aprovadas - 1º Semestre')
plt.show()

# Porcentagem média de aprovação
percent_aprovacao = (df_exp['Curricular units 1st sem (approved)'] / 
                     df_exp['Curricular units 1st sem (enrolled)']).mean() * 100
print(f"Porcentagem média de aprovação no 1º semestre: {percent_aprovacao:.2f}%")






# Estatísticas descritivas
print(df_exp['Age at enrollment'].describe())

# Histograma para a idade de matrícula
sns.histplot(df_exp['Age at enrollment'], kde=True, bins=10)
plt.title('Distribuição da Idade na Matrícula')
plt.xlabel('Idade')
plt.show()

# Boxplot para identificar outliers
sns.boxplot(x=df_exp['Age at enrollment'])
plt.title('Boxplot da Idade na Matrícula')
plt.show()






# Estatísticas descritivas
print(df_exp['Admission grade'].describe())

# Histograma com densidade
sns.histplot(df_exp['Admission grade'], kde=True, bins=10, color='skyblue')
plt.title('Distribuição da Nota de Admissão')
plt.xlabel('Nota')
plt.show()






# Estatísticas descritivas
print(df_exp['Previous qualification (grade)'].describe())

# Histograma com densidade
sns.histplot(df_exp['Previous qualification (grade)'], kde=True, bins=10, color='green')
plt.title('Distribuição das Notas de Qualificação Anterior')
plt.xlabel('Nota')
plt.show()






# Estatísticas descritivas
print(df_exp['Unemployment rate'].describe())

# Histograma para taxas de desemprego
sns.histplot(df_exp['Unemployment rate'], kde=True, color='orange')
plt.title('Distribuição da Taxa de Desemprego')
plt.xlabel('Taxa de Desemprego (%)')
plt.show()






# Estatísticas descritivas
print(df_exp['Inflation rate'].describe())

# Histograma
sns.histplot(df_exp['Inflation rate'], kde=True, color='purple')
plt.title('Distribuição da Taxa de Inflação')
plt.xlabel('Taxa de Inflação (%)')
plt.show()






# Estatísticas descritivas
print(df_exp['GDP'].describe())

# Histograma para o PIB
sns.histplot(df_exp['GDP'], kde=True, color='red')
plt.title('Distribuição do PIB')
plt.xlabel('PIB')
plt.show()















cor = pd.DataFrame([(col, *pointbiserialr(df_exp['y'], df_exp[col])) for col in df_exp[cont_cols]], columns=['Variável', 'Correlação com y', 'P-value'])
cor





# Gráfico de notas do primeiro semestre comparado com notas do segundo semestre
sns.boxplot(df_exp[['Curricular units 1st sem (grade)', 'Curricular units 2nd sem (grade)']])
plt.show()


# Gráfico de quantidade de disciplinadas aprovadas no primeiro semestre comparado ao segundo semetre
sns.boxplot(df_exp[['Curricular units 1st sem (approved)', 'Curricular units 2nd sem (approved)']])
plt.show()





df_exp['Target'].unique()


df_exp['Dropout'] = df_exp['Target'].map({'Graduate': False, 'Enrolled': False, 'Dropout': True})

grades = (df_exp[['Dropout', 'Curricular units 1st sem (grade)', 'Curricular units 2nd sem (grade)']]
          .assign(avarage_by_student=(df_exp['Curricular units 1st sem (grade)'] + df_exp['Curricular units 2nd sem (grade)'])/2))

grades['avarage_by_category'] = df_exp['Dropout'].map(grades.groupby('Dropout')['avarage_by_student'].mean())

grades['resid'] = grades['avarage_by_student'] - grades['avarage_by_category']

grades.head(5)


plt.figure(figsize=(10, 6))

sns.scatterplot(
    data=grades,
    x='Curricular units 1st sem (grade)',
    y='Curricular units 2nd sem (grade)',
    hue='Dropout',
    size='avarage_by_student',
    sizes=(50, 200),
    palette={True: 'red', False: 'blue'},
    alpha=0.8,
    legend='brief'
)

plt.title('Desempenho Acadêmico por Categoria de Alunos')
plt.xlabel('Notas do Primeiro Semestre')
plt.ylabel('Notas do Segundo Semestre')
plt.legend(title='Legenda', bbox_to_anchor=(1.05, 1), loc='upper left')
plt.grid(True)
plt.tight_layout()
plt.show()


sns.scatterplot(
    data=grades,
    x='resid',
    y='avarage_by_student',
    hue='Dropout'
)

plt.show()





approved = (df_exp[['Dropout', 'Curricular units 1st sem (approved)', 'Curricular units 2nd sem (approved)']]
          .assign(avarage_by_student=(df_exp['Curricular units 1st sem (approved)'] + df_exp['Curricular units 2nd sem (approved)'])/2))

approved['avarage_by_category'] = df_exp['Dropout'].map(approved.groupby('Dropout')['avarage_by_student'].mean())

approved.head(5)


plt.figure(figsize=(10, 6))

sns.scatterplot(
    data=approved,
    x='Curricular units 1st sem (approved)',
    y='Curricular units 2nd sem (approved)',
    hue='Dropout',
    size='avarage_by_student',
    sizes=(50, 200),
    palette={True: 'red', False: 'blue'},
    alpha=0.8,
    legend='brief'
)

plt.title('Quantidade de Disciplinas Aprovadas por Categoria de Alunos')
plt.xlabel('Quantidade de Disciplinas Aprovadas no Primeiro Semestre')
plt.ylabel('Quantidade de Disciplinas Aprovadas no Segundo Semestre')
plt.legend(title='Legenda', bbox_to_anchor=(1.05, 1), loc='upper left')
plt.grid(True)
plt.tight_layout()
plt.show()








g = sns.catplot(
    data=df_exp,
    x='Debtor', hue='Target', col='Tuition fees up to date',
    palette={'Dropout': 'red', 'Not Dropout': 'blue'},
    kind='count',
    height=4, aspect=1.2
)
g.fig.suptitle('Distribuição por Categoria de Aluno', y=1.05)
plt.show()


from sklearn.utils import resample

grouped = df_exp.groupby(['Tuition fees up to date', 'Debtor'])

# Encontrando o tamanho máximo entre as combinações
max_size = grouped.size().max()

# Superamostragem para cada combinação
balanced_data = grouped.apply(
    lambda x: resample(x, replace=True, n_samples=max_size, random_state=412)
).reset_index(drop=True)

print(balanced_data.groupby(['Tuition fees up to date', 'Debtor']).size())


g = sns.catplot(
    data=balanced_data,
    x='Debtor', hue='Target', col='Tuition fees up to date',
    kind='count',
    palette={'Dropout': 'red', 'Not Dropout': 'blue'},
    height=4, aspect=1.2
)
g.fig.suptitle('Distribuição por Categoria de Aluno Balanceada', y=1.05)
plt.show()





cols.extend(['Tuition fees up to date', 'Debtor'])


balanced_data[cols].corr()['y']


cor_balanced = balanced_data.corr(numeric_only=True)['y']
cor_balanced


pd.Series([cor_balanced[cor_balanced == row].index[0] if abs(row) > 0.18 else np.nan for row in cor_balanced]).dropna()












