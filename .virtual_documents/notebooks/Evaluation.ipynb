





# Manipulação e transformação dos dados
import pandas as pd
import numpy as np

# Carregar modelos ajustados
from joblib import load

# Visualizar dados
import matplotlib.pyplot as plt

# Métricas de avaliação
from sklearn.metrics import confusion_matrix, ConfusionMatrixDisplay, accuracy_score, roc_auc_score, roc_curve, classification_report





# Carregando base de validação
df_valid_t = pd.read_feather('../data/processed/valid_t.ftr')
df_valid_s = pd.read_feather('../data/processed/valid_s.ftr')

# Visualizando formato
display(df_valid_t.shape)
display(df_valid_s.shape)


# Separando em features (X) e target (y)
X_vt = df_valid_t.drop(columns=['Target'])
y_vt = df_valid_t['Target']

X_vs = df_valid_s.drop(columns=['Target'])
y_vs = df_valid_s['Target']

# Visualizando formato
display(X_vt.shape)
display(y_vt.shape)
display(X_vs.shape)
display(y_vs.shape)





# Carregando modelos
logistic_t = load('../src/models/logistic_regression_model_base_T.joblib')
logistic_s = load('../src/models/logistic_regression_model_base_S.joblib')

# Visualizando
display(logistic_t)
display(logistic_s)





# Definindo funções para avaliar o modelo na base de validação
def avaliar_modelo(model: LogisticRegression , X_valid: pd.DataFrame, y_valid: pd.Series) -> None:
    '''
    Função para conduzir a avaliação do modelo criado e plotar as métricas do modelo.

    Parâmetros:
    - model: recebe o modelo de regressão logística ajustado.
    - X_valid: recebe o DataFrame do Pandas com os dados de validação das variáveis independentes.
    - y_valid: recebe o Series do Pandas com os dados de validação da variável resposta.
    '''
    # Criando previsão de classes com a base de validação
    y_pred = model.predict(X_valid)
    
    # Criando previsão de probabilidades com base de validação
    y_probs = model.predict_proba(X_valid)
    
    # Calculando métricas na base de validação
    acc = accuracy_score(y_valid, y_pred)
    auc = roc_auc_score(y_valid, y_pred)
    gini = 2 * auc - 1
    fpr, tpr, _ = roc_curve(y_valid, y_probs[:, 1])
    ks = max(tpr - fpr)
    cls_report = classification_report(y_valid, y_pred)
    
    # Visualizando métricas na base de validação
    print('='*75)
    print('Métricas do modelo na base de validação'.center(75))
    print('='*75)
    print(f'Acurácia do modelo: {acc:.2%}')
    print(f'AUC do modelo: {auc:.2%}')
    print(f'Coeficiente de Gini do modelo: {gini:.2%}')
    print(f'KS do modelo: {ks:.4f}')
    print(cls_report)
    
    # Criando e plotando matrix de confusão na base de treino
    cm = confusion_matrix(y_valid, y_pred)
    cm_disp = ConfusionMatrixDisplay(cm)
    cm_disp.plot()
    plt.show()





# Avaliando modelo da Base T
avaliar_modelo(logistic_t, X_vt, y_vt)





# Avaliando modelo da Base S
avaliar_modelo(logistic_s, X_vs, y_vs)



